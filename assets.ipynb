{
 "cells": [
  {
   "cell_type": "markdown",
   "metadata": {},
   "source": [
    "# 预处理assets，整理出后续要用的数据"
   ]
  },
  {
   "cell_type": "code",
   "execution_count": 1,
   "metadata": {},
   "outputs": [
    {
     "data": {
      "text/plain": [
       "True"
      ]
     },
     "execution_count": 1,
     "metadata": {},
     "output_type": "execute_result"
    }
   ],
   "source": [
    "from dotenv import load_dotenv\n",
    "import os\n",
    "os.environ['DEBUG'] = '1'\n",
    "os.environ['SHOW_LLM_INPUT_MSG'] = '1'\n",
    "\n",
    "# 加载 .env 文件\n",
    "load_dotenv()"
   ]
  },
  {
   "cell_type": "code",
   "execution_count": 5,
   "metadata": {},
   "outputs": [],
   "source": [
    "import pandas as pd\n",
    "import json\n",
    "import llms\n",
    "from src.utils import show"
   ]
  },
  {
   "cell_type": "code",
   "execution_count": 7,
   "metadata": {},
   "outputs": [],
   "source": [
    "# Preprocess the competition questions here\n",
    "root_dir = os.getcwd()\n",
    "question_data_path = root_dir + '/assets/question.json'\n",
    "df1 = pd.read_excel(root_dir + '/assets/数据字典.xlsx', sheet_name='库表关系')\n",
    "df2 = pd.read_excel(root_dir + '/assets/数据字典.xlsx', sheet_name='表字段信息')\n",
    "file_path = root_dir + '/assets/all_tables_schema.txt'"
   ]
  },
  {
   "cell_type": "code",
   "execution_count": null,
   "metadata": {},
   "outputs": [
    {
     "name": "stderr",
     "output_type": "stream",
     "text": [
      "/tmp/ipykernel_4099366/2008785078.py:2: DeprecationWarning: DataFrameGroupBy.apply operated on the grouping columns. This behavior is deprecated, and in a future version of pandas the grouping columns will be excluded from the operation. Either pass `include_groups=False` to exclude the groupings or explicitly select the grouping columns after groupby to silence this warning.\n",
      "  db_table = df1.groupby('库名英文').apply(lambda x: {\n"
     ]
    }
   ],
   "source": [
    "# 假设 df1 的列名为 '库名英文', '库名中文', '表英文', '表中文', '表描述'\n",
    "db_table = df1.groupby('库名英文').apply(lambda x: {\n",
    "    '库名中文': x['库名中文'].iloc[0],\n",
    "    '表': x[['表英文', '表中文', '表描述']].apply(lambda y: y.str.lower() if y.name == '表英文' else y).to_dict('records')\n",
    "}).to_dict()\n",
    "db_table = {k.lower(): v for k, v in db_table.items()}\n",
    "\n",
    "# 打印结果以验证\n",
    "with open(root_dir + '/assets/db_table.json', 'w', encoding='utf-8') as json_file:\n",
    "    json.dump(db_table, json_file, ensure_ascii=False, indent=2)"
   ]
  },
  {
   "cell_type": "code",
   "execution_count": 9,
   "metadata": {},
   "outputs": [
    {
     "name": "stderr",
     "output_type": "stream",
     "text": [
      "/tmp/ipykernel_4099366/1464820833.py:2: DeprecationWarning: DataFrameGroupBy.apply operated on the grouping columns. This behavior is deprecated, and in a future version of pandas the grouping columns will be excluded from the operation. Either pass `include_groups=False` to exclude the groupings or explicitly select the grouping columns after groupby to silence this warning.\n",
      "  table_column = df2.groupby('table_name').apply(lambda x: [\n"
     ]
    }
   ],
   "source": [
    "# 假设 df2 的列名为 'table_name', 'column_name', 'column_description', '注释'\n",
    "table_column = df2.groupby('table_name').apply(lambda x: [\n",
    "    {\n",
    "        'column': row['column_name'],\n",
    "        'desc': f\"{row['column_description']}\" + (f\"；{row['注释']}\" if pd.notna(row['注释']) and row['注释'] else \"\").strip()\n",
    "    }\n",
    "    for _, row in x.iterrows() if pd.notna(row['column_name']) and row['column_name'] not in ['JSID', 'UpdateTime', 'InsertTime', 'ID', 'XGRQ']\n",
    "]).to_dict()\n",
    "table_column = {k.lower(): v for k, v in table_column.items()}\n",
    "\n",
    "# 打印结果以验证\n",
    "with open(root_dir + '/assets/table_column.json', 'w', encoding='utf-8') as json_file:\n",
    "    json.dump(table_column, json_file, ensure_ascii=False, indent=2)"
   ]
  },
  {
   "cell_type": "code",
   "execution_count": null,
   "metadata": {},
   "outputs": [],
   "source": [
    "for db_name, db in db_table.items():\n",
    "    for table in db[\"表\"]:\n",
    "        table_name = table[\"表英文\"]\n",
    "        print(f\"{db_name}.{table_name}\")\n",
    "        column_list = []\n",
    "        for column in table_column[table_name]:\n",
    "            column_name = column[\"column\"]\n",
    "            column_simple_desc = str(column[\"desc\"]).split(\"；\")[0]\n",
    "            column_list.append(f\"{column_simple_desc}({column_name})\")\n",
    "        all_cols = \",\".join(column_list)\n",
    "        table[\"all_cols\"] = all_cols\n",
    "        cols_summary, token, ok = llms.llm_gpt_4o.generate_response(\n",
    "            system='''你善于对数据表的字段信息进行总结，把同类信息归类，比如\"联系人电话、联系人传真\"等总结为\"联系方式如电话、传真等。\n",
    "        输出一段文字，不换行。\"''',\n",
    "            messages=[\n",
    "                {\n",
    "                    \"role\": \"user\",\n",
    "                    \"content\": f\"下面是一个数据表的所有表字段，请帮我为这个数据表写一段介绍，把字段信息压缩进去：\\n{all_cols}\"\n",
    "                }\n",
    "            ],\n",
    "            stream=False,\n",
    "        )\n",
    "        table[\"cols_summary\"] = cols_summary\n",
    "        if not ok:\n",
    "            print(f\"err: {db_name}.{table_name}\")"
   ]
  },
  {
   "cell_type": "code",
   "execution_count": 41,
   "metadata": {},
   "outputs": [],
   "source": [
    "with open(root_dir + '/assets/db_table.json', 'w', encoding='utf-8') as json_file:\n",
    "    json.dump(db_table, json_file, ensure_ascii=False, indent=2)"
   ]
  },
  {
   "cell_type": "code",
   "execution_count": null,
   "metadata": {},
   "outputs": [],
   "source": [
    "db_info = []\n",
    "for db_name, db in db_table.items():\n",
    "    print(db_name)\n",
    "    db_json = json.dumps(db, ensure_ascii=False)\n",
    "    db_summary, token, ok = llms.llm_gpt_4o.generate_response(\n",
    "    system='''你善于对数据库的表信息进行总结，根据它包含的数据表和字段信息，描述这个数据库，如\"本库名为xxx，记录了xxx；涵盖了xxx；方便用户xxx\"。\n",
    "输出一段文字，不换行。\"''',\n",
    "    messages=[\n",
    "        {\n",
    "            \"role\": \"user\",\n",
    "            \"content\": f\"下面是一个数据库的所有表和字段信息，请帮我为这个数据库写一段介绍，把表和字段信息压缩进去：\\n{db}\"\n",
    "        }\n",
    "    ],\n",
    "    stream=False,\n",
    ")\n",
    "    db_info.append({\n",
    "        \"db_name\": db_name,\n",
    "        \"db_desc\": db_summary,\n",
    "    })"
   ]
  },
  {
   "cell_type": "code",
   "execution_count": 48,
   "metadata": {},
   "outputs": [],
   "source": [
    "with open(root_dir + '/assets/db_info.json', 'w', encoding='utf-8') as json_file:\n",
    "    json.dump(db_info, json_file, ensure_ascii=False, indent=2)"
   ]
  },
  {
   "cell_type": "code",
   "execution_count": null,
   "metadata": {},
   "outputs": [],
   "source": []
  }
 ],
 "metadata": {
  "kernelspec": {
   "display_name": "py312",
   "language": "python",
   "name": "python3"
  },
  "language_info": {
   "codemirror_mode": {
    "name": "ipython",
    "version": 3
   },
   "file_extension": ".py",
   "mimetype": "text/x-python",
   "name": "python",
   "nbconvert_exporter": "python",
   "pygments_lexer": "ipython3",
   "version": "3.12.2"
  }
 },
 "nbformat": 4,
 "nbformat_minor": 2
}
